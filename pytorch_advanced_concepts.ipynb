{
 "cells": [
  {
   "cell_type": "markdown",
   "metadata": {},
   "source": [
    "# Advanced PyTorch Concepts for Beginners\n",
    "\n",
    "Welcome to this tutorial on advanced PyTorch concepts! This notebook is designed for those who have a basic understanding of Python and want to dive deeper into PyTorch. We'll cover various topics to help you gain a more comprehensive understanding of PyTorch and its capabilities."
   ]
  },
  {
   "cell_type": "markdown",
   "metadata": {},
   "source": [
    "## 1. Advanced Tensor Operations\n",
    "\n",
    "Let's start by exploring some advanced tensor operations, including indexing, slicing, joining, and mutating tensors."
   ]
  },
  {
   "cell_type": "code",
   "execution_count": null,
   "metadata": {},
   "outputs": [],
   "source": [
    "import torch\n",
    "\n",
    "# Create a 2D tensor\n",
    "tensor = torch.tensor([[1, 2, 3], [4, 5, 6], [7, 8, 9]])\n",
    "print(\"Original tensor:\")\n",
    "print(tensor)\n",
    "\n",
    "# Indexing\n",
    "print(\"\\nFirst row:\")\n",
    "print(tensor[0])\n",
    "\n",
    "# Slicing\n",
    "print(\"\\nFirst two rows, first two columns:\")\n",
    "print(tensor[:2, :2])\n",
    "\n",
    "# Joining tensors\n",
    "tensor2 = torch.tensor([[10, 11, 12]])\n",
    "joined_tensor = torch.cat((tensor, tensor2), dim=0)\n",
    "print(\"\\nJoined tensor:\")\n",
    "print(joined_tensor)\n",
    "\n",
    "# Mutating tensors\n",
    "tensor[0, 0] = 99\n",
    "print(\"\\nMutated tensor:\")\n",
    "print(tensor)"
   ]
  },
  {
   "cell_type": "markdown",
   "metadata": {},
   "source": [
    "## 2. Autograd: Automatic Differentiation\n",
    "\n",
    "PyTorch's autograd feature allows automatic computation of gradients. This is crucial for training neural networks."
   ]
  },
  {
   "cell_type": "code",
   "execution_count": null,
   "metadata": {},
   "outputs": [],
   "source": [
    "# Create a tensor with requires_grad=True\n",
    "x = torch.tensor([2.0], requires_grad=True)\n",
    "y = x ** 2 + 3*x + 1\n",
    "\n",
    "# Compute gradients\n",
    "y.backward()\n",
    "\n",
    "print(f\"x: {x}\")\n",
    "print(f\"y: {y}\")\n",
    "print(f\"dy/dx: {x.grad}\")"
   ]
  },
  {
   "cell_type": "markdown",
   "metadata": {},
   "source": [
    "## 3. Building Neural Networks\n",
    "\n",
    "Let's create a custom neural network using PyTorch's `nn.Module`."
   ]
  },
  {
   "cell_type": "code",
   "execution_count": null,
   "metadata": {},
   "outputs": [],
   "source": [
    "import torch.nn as nn\n",
    "import torch.nn.functional as F\n",
    "\n",
    "class CustomNet(nn.Module):\n",
    "    def __init__(self):\n",
    "        super(CustomNet, self).__init__()\n",
    "        self.fc1 = nn.Linear(10, 20)\n",
    "        self.fc2 = nn.Linear(20, 10)\n",
    "        self.fc3 = nn.Linear(10, 1)\n",
    "    \n",
    "    def forward(self, x):\n",
    "        x = F.relu(self.fc1(x))\n",
    "        x = F.relu(self.fc2(x))\n",
    "        x = self.fc3(x)\n",
    "        return x\n",
    "\n",
    "model = CustomNet()\n",
    "print(model)"
   ]
  },
  {
   "cell_type": "markdown",
   "metadata": {},
   "source": [
    "## 4. Loss Functions and Optimizers\n",
    "\n",
    "PyTorch provides various loss functions and optimizers for training neural networks."
   ]
  },
  {
   "cell_type": "code",
   "execution_count": null,
   "metadata": {},
   "outputs": [],
   "source": [
    "import torch.optim as optim\n",
    "\n",
    "# Define loss function\n",
    "criterion = nn.MSELoss()\n",
    "\n",
    "# Define optimizer\n",
    "optimizer = optim.SGD(model.parameters(), lr=0.01)\n",
    "\n",
    "# Example of a training step\n",
    "inputs = torch.randn(1, 10)\n",
    "targets = torch.randn(1, 1)\n",
    "\n",
    "# Forward pass\n",
    "outputs = model(inputs)\n",
    "loss = criterion(outputs, targets)\n",
    "\n",
    "# Backward pass and optimize\n",
    "optimizer.zero_grad()\n",
    "loss.backward()\n",
    "optimizer.step()\n",
    "\n",
    "print(f\"Loss: {loss.item()}\")"
   ]
  },
  {
   "cell_type": "markdown",
   "metadata": {},
   "source": [
    "## 5. Data Loading and Preprocessing\n",
    "\n",
    "PyTorch provides tools for efficient data loading and preprocessing."
   ]
  },
  {
   "cell_type": "code",
   "execution_count": null,
   "metadata": {},
   "outputs": [],
   "source": [
    "from torch.utils.data import Dataset, DataLoader\n",
    "from torchvision import transforms\n",
    "\n",
    "# Custom Dataset\n",
    "class CustomDataset(Dataset):\n",
    "    def __init__(self, data, targets, transform=None):\n",
    "        self.data = data\n",
    "        self.targets = targets\n",
    "        self.transform = transform\n",
    "    \n",
    "    def __len__(self):\n",
    "        return len(self.data)\n",
    "    \n",
    "    def __getitem__(self, idx):\n",
    "        sample = self.data[idx]\n",
    "        target = self.targets[idx]\n",
    "        \n",
    "        if self.transform:\n",
    "            sample = self.transform(sample)\n",
    "        \n",
    "        return sample, target\n",
    "\n",
    "# Example usage\n",
    "data = torch.randn(100, 3, 32, 32)  # 100 RGB images of size 32x32\n",
    "targets = torch.randint(0, 10, (100,))  # 100 random labels between 0 and 9\n",
    "\n",
    "transform = transforms.Compose([\n",
    "    transforms.RandomHorizontalFlip(),\n",
    "    transforms.Normalize((0.5, 0.5, 0.5), (0.5, 0.5, 0.5))\n",
    "])\n",
    "\n",
    "dataset = CustomDataset(data, targets, transform=transform)\n",
    "dataloader = DataLoader(dataset, batch_size=16, shuffle=True)\n",
    "\n",
    "# Iterate through the data\n",
    "for batch_data, batch_targets in dataloader:\n",
    "    print(f\"Batch shape: {batch_data.shape}\")\n",
    "    print(f\"Targets shape: {batch_targets.shape}\")\n",
    "    break"
   ]
  },
  {
   "cell_type": "markdown",
   "metadata": {},
   "source": [
    "## 6. Saving and Loading Models\n",
    "\n",
    "PyTorch allows you to save and load model checkpoints easily."
   ]
  },
  {
   "cell_type": "code",
   "execution_count": null,
   "metadata": {},
   "outputs": [],
   "source": [
    "# Saving a model\n",
    "torch.save(model.state_dict(), 'model.pth')\n",
    "\n",
    "# Loading a model\n",
    "loaded_model = CustomNet()\n",
    "loaded_model.load_state_dict(torch.load('model.pth'))\n",
    "loaded_model.eval()\n",
    "\n",
    "print(\"Model loaded successfully!\")"
   ]
  },
  {
   "cell_type": "markdown",
   "metadata": {},
   "source": [
    "## Conclusion\n",
    "\n",
    "This notebook has covered several advanced PyTorch concepts, including tensor operations, autograd, building neural networks, loss functions and optimizers, data loading, and model saving/loading. These concepts form the foundation for more complex deep learning tasks and projects. Keep practicing and exploring to become proficient in PyTorch!"
   ]
  }
 ],
 "metadata": {
  "language_info": {
   "name": "python"
  }
 },
 "nbformat": 4,
 "nbformat_minor": 2
}
