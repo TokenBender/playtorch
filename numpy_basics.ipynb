{
 "cells": [
  {
   "cell_type": "markdown",
   "id": "introduction",
   "metadata": {},
   "source": [
    "# NumPy Basics\n",
    "\n",
    "Welcome to the NumPy Basics tutorial! In this notebook, we will cover the fundamental concepts of NumPy, including array operations, basic mathematical functions, and array manipulation. We will also explore how these concepts can be applied to various data science tasks."
   ]
  },
  {
   "cell_type": "markdown",
   "id": "array-creation",
   "metadata": {},
   "source": [
    "## Creating Arrays\n",
    "\n",
    "NumPy's main object is the homogeneous multidimensional array. It is a table of elements (usually numbers), all of the same type, indexed by a tuple of non-negative integers. To create a NumPy array, you can use the `array` function."
   ]
  },
  {
   "cell_type": "code",
   "execution_count": null,
   "id": "array-creation-code",
   "metadata": {},
   "outputs": [],
   "source": [
    "import numpy as np\n",
    "\n",
    "# Creating a 1-D array\n",
    "a = np.array([1, 2, 3])\n",
    "print(\"1-D Array:\", a)\n",
    "\n",
    "# Creating a 2-D array\n",
    "b = np.array([[1, 2, 3], [4, 5, 6]])\n",
    "print(\"2-D Array:\\n\", b)"
   ]
  },
  {
   "cell_type": "markdown",
   "id": "array-attributes",
   "metadata": {},
   "source": [
    "## Array Attributes\n",
    "\n",
    "NumPy arrays have several important attributes that provide information about the array's shape, size, and data type."
   ]
  },
  {
   "cell_type": "code",
   "execution_count": null,
   "id": "array-attributes-code",
   "metadata": {},
   "outputs": [],
   "source": [
    "# Shape of the array\n",
    "print(\"Shape of a:\", a.shape)\n",
    "print(\"Shape of b:\", b.shape)\n",
    "\n",
    "# Number of dimensions\n",
    "print(\"Number of dimensions of a:\", a.ndim)\n",
    "print(\"Number of dimensions of b:\", b.ndim)\n",
    "\n",
    "# Data type of the elements in the array\n",
    "print(\"Data type of a:\", a.dtype)\n",
    "print(\"Data type of b:\", b.dtype)"
   ]
  },
  {
   "cell_type": "markdown",
   "id": "array-operations",
   "metadata": {},
   "source": [
    "## Array Operations\n",
    "\n",
    "NumPy allows you to perform element-wise operations on arrays. This means that operations are applied to each element in the array individually."
   ]
  },
  {
   "cell_type": "code",
   "execution_count": null,
   "id": "array-operations-code",
   "metadata": {},
   "outputs": [],
   "source": [
    "# Element-wise addition\n",
    "c = a + a\n",
    "print(\"Element-wise addition:\", c)\n",
    "\n",
    "# Element-wise multiplication\n",
    "d = a * a\n",
    "print(\"Element-wise multiplication:\", d)\n",
    "\n",
    "# Matrix multiplication\n",
    "e = np.dot(b, b.T)\n",
    "print(\"Matrix multiplication:\\n\", e)"
   ]
  },
  {
   "cell_type": "markdown",
   "id": "mathematical-functions",
   "metadata": {},
   "source": [
    "## Mathematical Functions\n",
    "\n",
    "NumPy provides a large library of mathematical functions that can be applied to arrays. These functions operate element-wise on the array."
   ]
  },
  {
   "cell_type": "code",
   "execution_count": null,
   "id": "mathematical-functions-code",
   "metadata": {},
   "outputs": [],
   "source": [
    "# Applying mathematical functions\n",
    "f = np.sin(a)\n",
    "print(\"Sine of each element in a:\", f)\n",
    "\n",
    "g = np.exp(a)\n",
    "print(\"Exponential of each element in a:\", g)\n",
    "\n",
    "h = np.sqrt(a)\n",
    "print(\"Square root of each element in a:\", h)"
   ]
  },
  {
   "cell_type": "markdown",
   "id": "array-manipulation",
   "metadata": {},
   "source": [
    "## Array Manipulation\n",
    "\n",
    "NumPy provides various functions to manipulate arrays, such as reshaping, stacking, and splitting arrays."
   ]
  },
  {
   "cell_type": "code",
   "execution_count": null,
   "id": "array-manipulation-code",
   "metadata": {},
   "outputs": [],
   "source": [
    "# Reshaping an array\n",
    "i = a.reshape(3, 1)\n",
    "print(\"Reshaped array:\\n\", i)\n",
    "\n",
    "# Stacking arrays\n",
    "j = np.vstack((a, a))\n",
    "print(\"Vertical stack:\\n\", j)\n",
    "\n",
    "k = np.hstack((a, a))\n",
    "print(\"Horizontal stack:\", k)\n",
    "\n",
    "# Splitting arrays\n",
    "l = np.split(k, 3)\n",
    "print(\"Split array:\", l)"
   ]
  },
  {
   "cell_type": "markdown",
   "id": "numpy-vs-python-array",
   "metadata": {},
   "source": [
    "## NumPy Array vs Python Array\n",
    "\n",
    "NumPy arrays are different from Python arrays in several ways:\n",
    "\n",
    "1. **Data Type**: NumPy arrays are homogeneous, meaning all elements in the array must be of the same type. Python lists can contain elements of different types.\n",
    "2. **Performance**: NumPy arrays are more efficient in terms of both speed and memory usage. This is because NumPy arrays are implemented in C, which allows for faster computations.\n",
    "3. **Functionality**: NumPy provides a vast library of mathematical functions and operations that are optimized for use with NumPy arrays. Python lists lack these built-in functionalities.\n",
    "4. **Multidimensional Support**: NumPy arrays can be multidimensional, while Python lists are inherently one-dimensional. However, you can create a list of lists to simulate multidimensionality in Python lists."
   ]
  },
  {
   "cell_type": "markdown",
   "id": "conclusion",
   "metadata": {},
   "source": [
    "## Conclusion\n",
    "\n",
    "This concludes the NumPy Basics tutorial. By now, you should have a good understanding of how to create and manipulate arrays using NumPy, as well as how to apply mathematical functions to arrays. These skills are essential for anyone working with numerical data in Python."
   ]
  }
 ],
 "metadata": {
  "kernelspec": {
   "display_name": "Python 3 (ipykernel)",
   "language": "python",
   "name": "python3"
  },
  "language_info": {
   "codemirror_mode": {
    "name": "ipython",
    "version": 3
   },
   "file_extension": ".py",
   "mimetype": "text/x-python",
   "name": "python",
   "nbconvert_exporter": "python",
   "pygments_lexer": "ipython3",
   "version": "3.11.6"
  }
 },
 "nbformat": 4,
 "nbformat_minor": 5
}
