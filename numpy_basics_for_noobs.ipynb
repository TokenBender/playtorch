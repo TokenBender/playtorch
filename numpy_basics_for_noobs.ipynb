### Advanced Array Manipulation

#### Broadcasting in Complex Scenarios
Broadcasting allows NumPy to work with arrays of different shapes during arithmetic operations. Here's an example:

```python
import numpy as np

a = np.array([[1, 2, 3], [4, 5, 6]])
b = np.array([1, 0, 1])

result = a + b
print(result)
```

#### Advanced Techniques for Stacking and Splitting Arrays
Stacking is used to join multiple arrays along a new axis. Here's an example:

```python
import numpy as np

a = np.array([1, 2, 3])
b = np.array([4, 5, 6])

vertical_stack = np.vstack((a, b))
print(vertical_stack)
```

#### Reshaping and Transposing Arrays for Specific Use-Cases
Reshaping allows changing the shape of an array without changing its data. Here's an example:

```python
import numpy as np

a = np.array([[1, 2, 3], [4, 5, 6]])
reshaped = a.reshape(3, 2)
print(reshaped)
```
### Universal Functions (ufuncs)

#### Creating Custom Universal Functions
You can create custom universal functions using `np.frompyfunc`. Here's an example:

```python
import numpy as np

def my_func(x):
    return x + 1

ufunc = np.frompyfunc(my_func, 1, 1)
result = ufunc(np.array([1, 2, 3]))
print(result)
```

#### In-depth Exploration of Reduction Operations with Axis Control
Reduction operations can be performed along specific axes. Here's an example:

```python
import numpy as np

a = np.array([[1, 2, 3], [4, 5, 6]])
sum_axis_0 = np.sum(a, axis=0)
print(sum_axis_0)
```
### Advanced Indexing

#### Advanced Filtering Techniques Using Boolean Indexing
Boolean indexing allows filtering elements based on conditions. Here's an example:

```python
import numpy as np

a = np.array([1, 2, 3, 4, 5])
filtered = a[a > 2]
print(filtered)
```

#### Using Arrays for Indexing in More Complex Scenarios (Fancy Indexing)
Fancy indexing allows using arrays as indices. Here's an example:

```python
import numpy as np

a = np.array([10, 20, 30, 40, 50])
indices = np.array([0, 2, 4])
selected = a[indices]
print(selected)
```
