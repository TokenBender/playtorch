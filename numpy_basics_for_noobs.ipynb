# NumPy Basics for Python Noobs

## Introduction to NumPy

NumPy is a powerful library for numerical computations in Python. It provides support for large, multi-dimensional arrays and matrices, along with a wide range of mathematical functions to operate on these arrays.

### Why Use NumPy?

- **Efficiency**: NumPy operations are implemented in C, making them much faster than equivalent Python code.
- **Convenience**: NumPy provides a wide range of functions that make complex mathematical operations straightforward.

## Installing NumPy

Before we start, you need to have NumPy installed. You can install it using pip:

```bash
pip install numpy
```

## Creating NumPy Arrays

NumPy arrays are similar to Python lists but are more powerful and efficient for numerical computations.

```python
import numpy as np

# Creating a 1D array
arr1d = np.array([1, 2, 3, 4, 5])
print("1D Array:", arr1d)

# Creating a 2D array
arr2d = np.array([[1, 2, 3], [4, 5, 6]])
print("2D Array:\n", arr2d)
```

## Basic Operations

### Arithmetic Operations

You can perform arithmetic operations directly on NumPy arrays.

```python
# Addition
add_result = arr1d + 5
print("Addition Result:", add_result)

# Multiplication
mul_result = arr1d * 2
print("Multiplication Result:", mul_result)
```

### Universal Functions (ufuncs)

Universal functions are fast, vectorized functions that operate element-wise on arrays.

```python
# Square root
sqrt_result = np.sqrt(arr1d)
print("Square Root Result:", sqrt_result)

# Exponential
exp_result = np.exp(arr1d)
print("Exponential Result:", exp_result)
```

## Indexing and Slicing

NumPy arrays can be indexed and sliced just like Python lists.

```python
# Indexing
print("First element of arr1d:", arr1d[0])
print("Last element of arr1d:", arr1d[-1])

# Slicing
print("First three elements of arr1d:", arr1d[:3])
```

## Reshaping Arrays

Reshaping allows you to change the dimensions of an array without changing its data.

```python
# Reshape a 1D array to 2D
reshaped_arr = arr1d.reshape(5, 1)
print("Reshaped Array:\n", reshaped_arr)
```

## Stacking and Splitting Arrays

### Stacking

You can stack arrays vertically or horizontally.

```python
# Vertical stacking
vstack_result = np.vstack((arr1d, arr1d))
print("Vertical Stack Result:\n", vstack_result)

# Horizontal stacking
hstack_result = np.hstack((arr1d.reshape(5, 1), arr1d.reshape(5, 1)))
print("Horizontal Stack Result:\n", hstack_result)
```

### Splitting

You can split arrays into multiple sub-arrays.

```python
# Vertical split
vsplit_result = np.vsplit(vstack_result, 2)
print("Vertical Split Result:\n", vsplit_result)

# Horizontal split
hsplit_result = np.hsplit(hstack_result, 2)
print("Horizontal Split Result:\n", hsplit_result)
```

## Broadcasting

Broadcasting allows NumPy to perform operations on arrays of different shapes.

```python
# Broadcasting example
broadcasting_result = arr1d + np.array([1, 2, 3, 4, 5])
print("Broadcasting Result:", broadcasting_result)
```

## Conclusion

This notebook covered the basics of NumPy, including array creation, basic operations, indexing and slicing, reshaping, stacking and splitting, and broadcasting. NumPy is a powerful tool for numerical computations in Python, and understanding these basics will help you get started with more advanced topics.
