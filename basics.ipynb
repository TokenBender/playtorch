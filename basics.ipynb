{
 "cells": [
  {
   "cell_type": "code",
   "execution_count": 1,
   "id": "ced29bc4-63d7-4606-8cda-dd72c8f9c80f",
   "metadata": {},
   "outputs": [
    {
     "name": "stdout",
     "output_type": "stream",
     "text": [
      "Tensor: tensor([1., 2., 3.])\n"
     ]
    }
   ],
   "source": [
    "# Importing PyTorch\n",
    "import torch\n",
    "\n",
    "# Creating a tensor\n",
    "tensor = torch.tensor([1.0, 2.0, 3.0])\n",
    "print(\"Tensor:\", tensor)"
   ]
  },
  {
   "cell_type": "code",
   "execution_count": null,
   "id": "3726fdb5-4233-4f4a-acb0-2b55982d9b75",
   "metadata": {},
   "outputs": [],
   "source": []
  }
 ],
 "metadata": {
  "kernelspec": {
   "display_name": "Python 3 (ipykernel)",
   "language": "python",
   "name": "python3"
  },
  "language_info": {
   "codemirror_mode": {
    "name": "ipython",
    "version": 3
   },
   "file_extension": ".py",
   "mimetype": "text/x-python",
   "name": "python",
   "nbconvert_exporter": "python",
   "pygments_lexer": "ipython3",
   "version": "3.11.6"
  }
 },
 "nbformat": 4,
 "nbformat_minor": 5
}
