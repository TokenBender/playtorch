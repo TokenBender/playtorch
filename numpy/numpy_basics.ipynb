{
 "cells": [
  {
   "cell_type": "markdown",
   "id": "introduction",
   "metadata": {},
   "source": [
    "# NumPy Basics\n",
    "\n",
    "Welcome to the NumPy Basics tutorial! In this notebook, we will cover the fundamental concepts of NumPy, including array operations, basic mathematical functions, and array manipulation. We will also explore how these concepts can be applied to various data science tasks."
   ]
  },
  {
   "cell_type": "markdown",
   "id": "array-creation",
   "metadata": {},
   "source": [
    "## Creating Arrays\n",
    "\n",
    "NumPy's main object is the homogeneous multidimensional array. It is a table of elements (usually numbers), all of the same type, indexed by a tuple of non-negative integers. To create a NumPy array, you can use the `array` function.\n",
    "\n",
    "**Intuition and Use-Cases:**\n",
    "Creating arrays is fundamental in NumPy as it allows you to store and manipulate large datasets efficiently. This is particularly useful in data analysis, scientific computing, and machine learning where you often deal with large matrices and vectors."
   ]
  },
  {
   "cell_type": "code",
   "execution_count": 6,
   "id": "array-creation-code",
   "metadata": {},
   "outputs": [
    {
     "name": "stdout",
     "output_type": "stream",
     "text": [
      "1-D Array: [1 2 3]\n",
      "2-D Array:\n",
      " [[1 2 3]\n",
      " [4 5 6]]\n"
     ]
    }
   ],
   "source": [
    "import numpy as np\n",
    "\n",
    "# Creating a 1-D array\n",
    "a = np.array([1, 2, 3])\n",
    "print(\"1-D Array:\", a)\n",
    "\n",
    "# Creating a 2-D array\n",
    "b = np.array([[1, 2, 3], [4, 5, 6]])\n",
    "print(\"2-D Array:\\n\", b)"
   ]
  },
  {
   "cell_type": "markdown",
   "id": "array-attributes",
   "metadata": {},
   "source": [
    "## Array Attributes\n",
    "\n",
    "NumPy arrays have several important attributes that provide information about the array's shape, size, and data type.\n",
    "\n",
    "**Intuition and Use-Cases:**\n",
    "Understanding array attributes is crucial for effective data manipulation. Knowing the shape and dimensions of an array helps in reshaping and slicing the data appropriately. The data type attribute ensures that the operations are performed on the correct type of data, which is essential for numerical computations."
   ]
  },
  {
   "cell_type": "code",
   "execution_count": 7,
   "id": "array-attributes-code",
   "metadata": {},
   "outputs": [
    {
     "name": "stdout",
     "output_type": "stream",
     "text": [
      "Shape of a: (3,)\n",
      "Shape of b: (2, 3)\n",
      "Number of dimensions of a: 1\n",
      "Number of dimensions of b: 2\n",
      "Data type of a: int64\n",
      "Data type of b: int64\n"
     ]
    }
   ],
   "source": [
    "# Shape of the array\n",
    "print(\"Shape of a:\", a.shape)\n",
    "print(\"Shape of b:\", b.shape)\n",
    "\n",
    "# Number of dimensions\n",
    "print(\"Number of dimensions of a:\", a.ndim)\n",
    "print(\"Number of dimensions of b:\", b.ndim)\n",
    "\n",
    "# Data type of the elements in the array\n",
    "print(\"Data type of a:\", a.dtype)\n",
    "print(\"Data type of b:\", b.dtype)"
   ]
  },
  {
   "cell_type": "markdown",
   "id": "array-operations",
   "metadata": {},
   "source": [
    "## Array Operations\n",
    "\n",
    "NumPy allows you to perform element-wise operations on arrays. This means that operations are applied to each element in the array individually.\n",
    "\n",
    "**Intuition and Use-Cases:**\n",
    "Element-wise operations are fundamental in numerical computations. They allow for efficient processing of large datasets, which is common in tasks such as image processing, signal processing, and machine learning model training."
   ]
  },
  {
   "cell_type": "code",
   "execution_count": 8,
   "id": "array-operations-code",
   "metadata": {},
   "outputs": [
    {
     "name": "stdout",
     "output_type": "stream",
     "text": [
      "Element-wise addition: [2 4 6]\n",
      "Element-wise multiplication: [1 4 9]\n",
      "Matrix multiplication:\n",
      " [[14 32]\n",
      " [32 77]]\n"
     ]
    }
   ],
   "source": [
    "# Element-wise addition\n",
    "c = a + a\n",
    "print(\"Element-wise addition:\", c)\n",
    "\n",
    "# Element-wise multiplication\n",
    "d = a * a\n",
    "print(\"Element-wise multiplication:\", d)\n",
    "\n",
    "# Matrix multiplication\n",
    "e = np.dot(b, b.T)\n",
    "print(\"Matrix multiplication:\\n\", e)\n",
    "\n",
    "# Illegal operation: Adding arrays of different shapes\n",
    "# f = a + b  # This will raise a ValueError\n",
    "# Explanation: NumPy arrays must have compatible shapes for element-wise operations. The shapes of 'a' and 'b' are (3,) and (2, 3) respectively, which are not compatible for addition."
   ]
  },
  {
   "cell_type": "markdown",
   "id": "mathematical-functions",
   "metadata": {},
   "source": [
    "## Mathematical Functions\n",
    "\n",
    "NumPy provides a large library of mathematical functions that can be applied to arrays. These functions operate element-wise on the array.\n",
    "\n",
    "**Intuition and Use-Cases:**\n",
    "Mathematical functions in NumPy are essential for performing complex computations efficiently. They are widely used in scientific simulations, data preprocessing, and feature engineering in machine learning."
   ]
  },
  {
   "cell_type": "code",
   "execution_count": 9,
   "id": "mathematical-functions-code",
   "metadata": {},
   "outputs": [
    {
     "name": "stdout",
     "output_type": "stream",
     "text": [
      "Sine of each element in a: [0.84147098 0.90929743 0.14112001]\n",
      "Exponential of each element in a: [ 2.71828183  7.3890561  20.08553692]\n",
      "Square root of each element in a: [1.         1.41421356 1.73205081]\n"
     ]
    }
   ],
   "source": [
    "# Applying mathematical functions\n",
    "f = np.sin(a)\n",
    "print(\"Sine of each element in a:\", f)\n",
    "\n",
    "g = np.exp(a)\n",
    "print(\"Exponential of each element in a:\", g)\n",
    "\n",
    "h = np.sqrt(a)\n",
    "print(\"Square root of each element in a:\", h)\n",
    "\n",
    "# Illegal operation: Applying a mathematical function to an incompatible data type\n",
    "# i = np.sqrt('a')  # This will raise a TypeError\n",
    "# Explanation: Mathematical functions in NumPy require numerical data. Applying them to non-numerical data types like strings will result in a TypeError."
   ]
  },
  {
   "cell_type": "markdown",
   "id": "array-manipulation",
   "metadata": {},
   "source": [
    "## Array Manipulation\n",
    "\n",
    "NumPy provides various functions to manipulate arrays, such as reshaping, stacking, and splitting arrays.\n",
    "\n",
    "**Intuition and Use-Cases:**\n",
    "Array manipulation is crucial for preparing data for various algorithms and models. Reshaping arrays allows for compatibility with different functions and models. Stacking and splitting arrays are useful for combining datasets or dividing them into manageable chunks for processing."
   ]
  },
  {
   "cell_type": "code",
   "execution_count": 10,
   "id": "array-manipulation-code",
   "metadata": {},
   "outputs": [
    {
     "name": "stdout",
     "output_type": "stream",
     "text": [
      "Reshaped array:\n",
      " [[1]\n",
      " [2]\n",
      " [3]]\n",
      "Vertical stack:\n",
      " [[1 2 3]\n",
      " [1 2 3]]\n",
      "Horizontal stack: [1 2 3 1 2 3]\n",
      "Split array: [array([1, 2]), array([3, 1]), array([2, 3])]\n"
     ]
    }
   ],
   "source": [
    "# Reshaping an array\n",
    "i = a.reshape(3, 1)\n",
    "print(\"Reshaped array:\\n\", i)\n",
    "\n",
    "# Stacking arrays\n",
    "j = np.vstack((a, a))\n",
    "print(\"Vertical stack:\\n\", j)\n",
    "\n",
    "k = np.hstack((a, a))\n",
    "print(\"Horizontal stack:\", k)\n",
    "\n",
    "# Splitting arrays\n",
    "l = np.split(k, 3)\n",
    "print(\"Split array:\", l)\n",
    "\n",
    "# Illegal operation: Reshaping to an incompatible shape\n",
    "# m = a.reshape(4, 1)  # This will raise a ValueError\n",
    "# Explanation: The total number of elements in the array must remain the same when reshaping. The array 'a' has 3 elements, so reshaping it to a (4, 1) shape is not possible."
   ]
  },
  {
   "cell_type": "markdown",
   "id": "array-manipulation-explanation",
   "metadata": {},
   "source": [
    "### Explanation of Array Manipulation\n",
    "\n",
    "1. **Reshaping**: Reshaping an array changes its dimensions without changing its data. For example, converting a 1-D array into a 2-D array.\n",
    "2. **Stacking**: Stacking combines multiple arrays into a single array. Vertical stacking (`vstack`) stacks arrays row-wise, while horizontal stacking (`hstack`) stacks arrays column-wise.\n",
    "3. **Splitting**: Splitting divides an array into multiple sub-arrays. The `split` function divides the array into equal parts unless specified otherwise.\n",
    "\n",
    "**Mathematical Example**: Consider a 1-D array `a = [1, 2, 3]`. Reshaping this array to a 2-D array `a.reshape(3, 1)` results in:\n",
    "\n",
    "```\n",
    " [[1]\n",
    " [2]\n",
    " [3]]\n",
    "```\n",
    "\n",
    "This transformation is useful when performing matrix operations where the dimensions need to match specific requirements."
   ]
  },
  {
   "cell_type": "markdown",
   "id": "numpy-vs-python-array",
   "metadata": {},
   "source": [
    "## NumPy Array vs Python Array\n",
    "\n",
    "NumPy arrays are different from Python arrays in several ways:\n",
    "\n",
    "1. **Data Type**: NumPy arrays are homogeneous, meaning all elements in the array must be of the same type. Python lists can contain elements of different types.\n",
    "2. **Performance**: NumPy arrays are more efficient in terms of both speed and memory usage. This is because NumPy arrays are implemented in C, which allows for faster computations.\n",
    "3. **Functionality**: NumPy provides a vast library of mathematical functions and operations that are optimized for use with NumPy arrays. Python lists lack these built-in functionalities.\n",
    "4. **Multidimensional Support**: NumPy arrays can be multidimensional, while Python lists are inherently one-dimensional. However, you can create a list of lists to simulate multidimensionality in Python lists.\n",
    "\n",
    "**Intuition and Use-Cases:**\n",
    "Understanding the differences between NumPy arrays and Python lists helps in choosing the right tool for the job. For numerical computations and large-scale data manipulation, NumPy arrays are the preferred choice due to their efficiency and extensive functionality."
   ]
  },
  {
   "cell_type": "markdown",
   "id": "common-mistakes",
   "metadata": {},
   "source": [
    "## Common Mistakes and How to Avoid Them\n",
    "\n",
    "1. **Incorrect Data Type**: Ensure that all elements in a NumPy array are of the same type. Mixing types can lead to errors.\n",
    "2. **Shape Mismatch**: When performing operations between arrays, ensure that their shapes are compatible. Use `reshape` or `transpose` if necessary.\n",
    "3. **Indexing Errors**: Be careful with indexing. Python uses 0-based indexing, and negative indices can be used to access elements from the end of the array.\n",
    "4. **Memory Issues**: Large arrays can consume a lot of memory. Use functions like `np.zeros` or `np.ones` to initialize arrays instead of creating them with large literal values.\n",
    "5. **Performance Pitfalls**: Avoid using Python loops for operations on NumPy arrays. Instead, use vectorized operations provided by NumPy for better performance."
   ]
  },
  {
   "cell_type": "markdown",
   "id": "conclusion",
   "metadata": {},
   "source": [
    "## Conclusion\n",
    "\n",
    "This concludes the NumPy Basics tutorial. By now, you should have a good understanding of how to create and manipulate arrays using NumPy, as well as how to apply mathematical functions to arrays. These skills are essential for anyone working with numerical data in Python."
   ]
  }
 ],
 "metadata": {
  "kernelspec": {
   "display_name": "Python 3 (ipykernel)",
   "language": "python",
   "name": "python3"
  },
  "language_info": {
   "codemirror_mode": {
    "name": "ipython",
    "version": 3
   },
   "file_extension": ".py",
   "mimetype": "text/x-python",
   "name": "python",
   "nbconvert_exporter": "python",
   "pygments_lexer": "ipython3",
   "version": "3.11.6"
  }
 },
 "nbformat": 4,
 "nbformat_minor": 5
}
