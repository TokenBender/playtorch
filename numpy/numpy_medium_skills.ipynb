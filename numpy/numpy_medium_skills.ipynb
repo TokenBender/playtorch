{
 "cells": [
  {
   "cell_type": "markdown",
   "id": "introduction",
   "metadata": {},
   "source": [
    "# NumPy Medium Skills\n",
    "\n",
    "Welcome to the NumPy Medium Skills tutorial! In this notebook, we will build on the fundamental concepts of NumPy covered in the basics tutorial. We will explore more advanced array operations, mathematical functions, and array manipulation techniques. These skills are essential for tackling more complex data science tasks."
   ]
  },
  {
   "cell_type": "markdown",
   "id": "broadcasting",
   "metadata": {},
   "source": [
    "## Broadcasting\n",
    "\n",
    "Broadcasting is a powerful mechanism that allows NumPy to work with arrays of different shapes during arithmetic operations. It simplifies the code and increases efficiency.\n",
    "\n",
    "**Intuition and Use-Cases:**\n",
    "Broadcasting is particularly useful when you need to perform operations on arrays of different sizes without explicitly replicating data. This is common in image processing, where you might need to apply a filter to an entire image without increasing memory usage."
   ]
  },
  {
   "cell_type": "code",
   "execution_count": 1,
   "id": "broadcasting-code",
   "metadata": {},
   "outputs": [
    {
     "name": "stdout",
     "output_type": "stream",
     "text": [
      "Array a:\n",
      " [[1 2 3]\n",
      " [4 5 6]]\n",
      "Array b:\n",
      " [[10]\n",
      " [20]]\n",
      "Broadcasting result:\n",
      " [[11 12 13]\n",
      " [24 25 26]]\n"
     ]
    }
   ],
   "source": [
    "import numpy as np\n",
    "\n",
    "# Example of broadcasting\n",
    "a = np.array([[1, 2, 3], [4, 5, 6]])\n",
    "b = np.array([[10], [20]])\n",
    "\n",
    "print(\"Array a:\\n\", a)\n",
    "print(\"Array b:\\n\", b)\n",
    "\n",
    "# Broadcasting b to match the shape of a\n",
    "result = a + b\n",
    "print(\"Broadcasting result:\\n\", result)"
   ]
  },
  {
   "cell_type": "markdown",
   "id": "broadcasting-explanation",
   "metadata": {},
   "source": [
    "### Explanation of Broadcasting\n",
    "\n",
    "In the example above, array `b` is broadcasted to match the shape of array `a`. This means that `b` is virtually expanded to:\n",
    "\n",
    "```\n",
    "b = [[10, 10, 10],\n",
    "     [20, 20, 20]]\n",
    "```\n",
    "\n",
    "This allows the element-wise addition to be performed between `a` and the broadcasted `b`."
   ]
  },
  {
   "cell_type": "markdown",
   "id": "ufunc",
   "metadata": {},
   "source": [
    "## Universal Functions (ufuncs)\n",
    "\n",
    "Universal Functions, or ufuncs, are functions that operate element-wise on arrays. They provide a fast and vectorized operation on NumPy arrays.\n",
    "\n",
    "**Intuition and Use-Cases:**\n",
    "Ufuncs are essential for efficient numerical computations. They are used extensively in scientific computing, data analysis, and machine learning for operations like element-wise addition, multiplication, and trigonometric functions."
   ]
  },
  {
   "cell_type": "code",
   "execution_count": 2,
   "id": "ufunc-code",
   "metadata": {},
   "outputs": [
    {
     "name": "stdout",
     "output_type": "stream",
     "text": [
      "Element-wise square root:\n",
      " [[1.         1.41421356 1.73205081]\n",
      " [2.         2.23606798 2.44948974]]\n"
     ]
    }
   ],
   "source": [
    "# Example of ufunc\n",
    "a = np.array([[1, 2, 3], [4, 5, 6]])\n",
    "\n",
    "print(\"Element-wise square root:\\n\", np.sqrt(a))"
   ]
  },
  {
   "cell_type": "markdown",
   "id": "ufunc-explanation",
   "metadata": {},
   "source": [
    "### Explanation of Ufuncs\n",
    "\n",
    "In the example above, `np.sqrt` is a ufunc that computes the square root of each element in the array `a`. This operation is performed element-wise, meaning that each element in the array is processed individually."
   ]
  },
  {
   "cell_type": "markdown",
   "id": "advanced-indexing",
   "metadata": {},
   "source": [
    "## Advanced Indexing\n",
    "\n",
    "Advanced indexing allows for more complex and flexible selection of elements from an array. It can be done using integer arrays or Boolean arrays.\n",
    "\n",
    "**Intuition and Use-Cases:**\n",
    "Advanced indexing is useful when you need to select non-contiguous or specific elements from an array. This is common in data preprocessing, where you might need to filter out specific data points based on certain criteria."
   ]
  },
  {
   "cell_type": "code",
   "execution_count": 3,
   "id": "advanced-indexing-code",
   "metadata": {},
   "outputs": [
    {
     "name": "stdout",
     "output_type": "stream",
     "text": [
      "Selected elements:\n",
      " [2 6]\n"
     ]
    }
   ],
   "source": [
    "# Example of advanced indexing\n",
    "a = np.array([[1, 2, 3], [4, 5, 6]])\n",
    "\n",
    "# Selecting elements at positions (0,1) and (1,2)\n",
    "selected_elements = a[(0, 1), (1, 2)]\n",
    "print(\"Selected elements:\\n\", selected_elements)"
   ]
  },
  {
   "cell_type": "markdown",
   "id": "advanced-indexing-explanation",
   "metadata": {},
   "source": [
    "### Explanation of Advanced Indexing\n",
    "\n",
    "In the example above, we use a tuple of indices to select specific elements from the array `a`. The tuple `(0, 1)` specifies the rows, and `(1, 2)` specifies the columns. This allows us to select the elements at positions `(0,1)` and `(1,2)`."
   ]
  },
  {
   "cell_type": "markdown",
   "id": "common-mistakes",
   "metadata": {},
   "source": [
    "## Common Mistakes and How to Avoid Them\n",
    "\n",
    "1. **Broadcasting Errors**: Ensure that the shapes of the arrays are compatible for broadcasting. If not, reshape the arrays appropriately.\n",
    "2. **Indexing Errors**: Be careful with indexing. Python uses 0-based indexing, and negative indices can be used to access elements from the end of the array.\n",
    "3. **Data Type Errors**: Ensure that all elements in a NumPy array are of the same type. Mixing types can lead to errors.\n",
    "4. **Performance Pitfalls**: Avoid using Python loops for operations on NumPy arrays. Instead, use vectorized operations provided by NumPy for better performance."
   ]
  },
  {
   "cell_type": "markdown",
   "id": "conclusion",
   "metadata": {},
   "source": [
    "## Conclusion\n",
    "\n",
    "This concludes the NumPy Medium Skills tutorial. By now, you should have a good understanding of more advanced NumPy concepts such as broadcasting, universal functions, and advanced indexing. These skills will help you tackle more complex data science tasks efficiently."
   ]
  }
 ],
 "metadata": {
  "kernelspec": {
   "display_name": "Python 3 (ipykernel)",
   "language": "python",
   "name": "python3"
  },
  "language_info": {
   "codemirror_mode": {
    "name": "ipython",
    "version": 3
   },
   "file_extension": ".py",
   "mimetype": "text/x-python",
   "name": "python",
   "nbconvert_exporter": "python",
   "pygments_lexer": "ipython3",
   "version": "3.11.6"
  }
 },
 "nbformat": 4,
 "nbformat_minor": 5
}
